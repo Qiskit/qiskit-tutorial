{
  "nbformat": 4,
  "nbformat_minor": 0,
  "metadata": {
    "colab": {
      "name": "HHL-Qiskit.ipynb",
      "provenance": [],
      "collapsed_sections": [],
      "authorship_tag": "ABX9TyPyqTwf6USmccY0pVGkumaS",
      "include_colab_link": true
    },
    "kernelspec": {
      "name": "python3",
      "display_name": "Python 3"
    },
    "language_info": {
      "name": "python"
    }
  },
  "cells": [
    {
      "cell_type": "markdown",
      "metadata": {
        "id": "view-in-github",
        "colab_type": "text"
      },
      "source": [
        "<a href=\"https://colab.research.google.com/github/gopalm-ai/qiskit-tutorials/blob/master/HHL_Qiskit.ipynb\" target=\"_parent\"><img src=\"https://colab.research.google.com/assets/colab-badge.svg\" alt=\"Open In Colab\"/></a>"
      ]
    },
    {
      "cell_type": "code",
      "execution_count": null,
      "metadata": {
        "id": "pi3a-UGhxfi8"
      },
      "outputs": [],
      "source": [
        ""
      ]
    },
    {
      "cell_type": "markdown",
      "source": [
        "## HHL Algorithm"
      ],
      "metadata": {
        "id": "iW5h_FIi6LRQ"
      }
    },
    {
      "cell_type": "markdown",
      "source": [
        "The HHL quantum algorithm was proposed by Harrow, Hassidim, and Lloyd. The goal of the algorithm is to solve a linear system *Ax* = *b* by expressing the vector x as a quantum state |x> and the vector *b* as a quantum state |b> over log_2(N) qubits.\n",
        "\n",
        "---\n",
        "\n",
        "\n",
        "\n",
        "---\n",
        "\n"
      ],
      "metadata": {
        "id": "X12CbBUT1nMz"
      }
    },
    {
      "cell_type": "code",
      "source": [
        "! pip3 install qiskit"
      ],
      "metadata": {
        "colab": {
          "base_uri": "https://localhost:8080/"
        },
        "id": "YyBekdvlxiei",
        "outputId": "1feb1615-2512-4469-933a-5da9006bc340"
      },
      "execution_count": 2,
      "outputs": [
        {
          "output_type": "stream",
          "name": "stdout",
          "text": [
            "Looking in indexes: https://pypi.org/simple, https://us-python.pkg.dev/colab-wheels/public/simple/\n",
            "Collecting qiskit\n",
            "  Downloading qiskit-0.37.0.tar.gz (13 kB)\n",
            "Collecting qiskit-terra==0.21.0\n",
            "  Downloading qiskit_terra-0.21.0-cp37-cp37m-manylinux_2_17_x86_64.manylinux2014_x86_64.whl (6.7 MB)\n",
            "\u001b[K     |████████████████████████████████| 6.7 MB 8.4 MB/s \n",
            "\u001b[?25hCollecting qiskit-aer==0.10.4\n",
            "  Downloading qiskit_aer-0.10.4-cp37-cp37m-manylinux_2_12_x86_64.manylinux2010_x86_64.whl (18.0 MB)\n",
            "\u001b[K     |████████████████████████████████| 18.0 MB 351 kB/s \n",
            "\u001b[?25hCollecting qiskit-ibmq-provider==0.19.2\n",
            "  Downloading qiskit_ibmq_provider-0.19.2-py3-none-any.whl (240 kB)\n",
            "\u001b[K     |████████████████████████████████| 240 kB 65.4 MB/s \n",
            "\u001b[?25hRequirement already satisfied: numpy>=1.16.3 in /usr/local/lib/python3.7/dist-packages (from qiskit-aer==0.10.4->qiskit) (1.21.6)\n",
            "Requirement already satisfied: scipy>=1.0 in /usr/local/lib/python3.7/dist-packages (from qiskit-aer==0.10.4->qiskit) (1.4.1)\n",
            "Requirement already satisfied: python-dateutil>=2.8.0 in /usr/local/lib/python3.7/dist-packages (from qiskit-ibmq-provider==0.19.2->qiskit) (2.8.2)\n",
            "Requirement already satisfied: urllib3>=1.21.1 in /usr/local/lib/python3.7/dist-packages (from qiskit-ibmq-provider==0.19.2->qiskit) (1.24.3)\n",
            "Requirement already satisfied: requests>=2.19 in /usr/local/lib/python3.7/dist-packages (from qiskit-ibmq-provider==0.19.2->qiskit) (2.23.0)\n",
            "Collecting websockets>=10.0\n",
            "  Downloading websockets-10.3-cp37-cp37m-manylinux_2_5_x86_64.manylinux1_x86_64.manylinux_2_12_x86_64.manylinux2010_x86_64.whl (112 kB)\n",
            "\u001b[K     |████████████████████████████████| 112 kB 66.8 MB/s \n",
            "\u001b[?25hCollecting requests-ntlm>=1.1.0\n",
            "  Downloading requests_ntlm-1.1.0-py2.py3-none-any.whl (5.7 kB)\n",
            "Collecting websocket-client>=1.0.1\n",
            "  Downloading websocket_client-1.3.3-py3-none-any.whl (54 kB)\n",
            "\u001b[K     |████████████████████████████████| 54 kB 2.5 MB/s \n",
            "\u001b[?25hCollecting ply>=3.10\n",
            "  Downloading ply-3.11-py2.py3-none-any.whl (49 kB)\n",
            "\u001b[K     |████████████████████████████████| 49 kB 6.8 MB/s \n",
            "\u001b[?25hCollecting scipy>=1.0\n",
            "  Downloading scipy-1.7.3-cp37-cp37m-manylinux_2_12_x86_64.manylinux2010_x86_64.whl (38.1 MB)\n",
            "\u001b[K     |████████████████████████████████| 38.1 MB 316 kB/s \n",
            "\u001b[?25hCollecting symengine>=0.9\n",
            "  Downloading symengine-0.9.2-cp37-cp37m-manylinux2010_x86_64.whl (37.5 MB)\n",
            "\u001b[K     |████████████████████████████████| 37.5 MB 1.2 MB/s \n",
            "\u001b[?25hCollecting retworkx>=0.11.0\n",
            "  Downloading retworkx-0.11.0-cp37-cp37m-manylinux_2_5_x86_64.manylinux1_x86_64.manylinux_2_12_x86_64.manylinux2010_x86_64.whl (1.6 MB)\n",
            "\u001b[K     |████████████████████████████████| 1.6 MB 58.9 MB/s \n",
            "\u001b[?25hRequirement already satisfied: dill>=0.3 in /usr/local/lib/python3.7/dist-packages (from qiskit-terra==0.21.0->qiskit) (0.3.5.1)\n",
            "Requirement already satisfied: typing-extensions in /usr/local/lib/python3.7/dist-packages (from qiskit-terra==0.21.0->qiskit) (4.1.1)\n",
            "Requirement already satisfied: sympy>=1.3 in /usr/local/lib/python3.7/dist-packages (from qiskit-terra==0.21.0->qiskit) (1.7.1)\n",
            "Collecting stevedore>=3.0.0\n",
            "  Downloading stevedore-3.5.0-py3-none-any.whl (49 kB)\n",
            "\u001b[K     |████████████████████████████████| 49 kB 5.6 MB/s \n",
            "\u001b[?25hRequirement already satisfied: psutil>=5 in /usr/local/lib/python3.7/dist-packages (from qiskit-terra==0.21.0->qiskit) (5.4.8)\n",
            "Collecting shared-memory38\n",
            "  Downloading shared_memory38-0.1.2-cp37-cp37m-manylinux_2_5_x86_64.manylinux1_x86_64.whl (25 kB)\n",
            "Collecting tweedledum<2.0,>=1.1\n",
            "  Downloading tweedledum-1.1.1-cp37-cp37m-manylinux_2_12_x86_64.manylinux2010_x86_64.whl (943 kB)\n",
            "\u001b[K     |████████████████████████████████| 943 kB 44.3 MB/s \n",
            "\u001b[?25hRequirement already satisfied: six>=1.5 in /usr/local/lib/python3.7/dist-packages (from python-dateutil>=2.8.0->qiskit-ibmq-provider==0.19.2->qiskit) (1.15.0)\n",
            "Requirement already satisfied: certifi>=2017.4.17 in /usr/local/lib/python3.7/dist-packages (from requests>=2.19->qiskit-ibmq-provider==0.19.2->qiskit) (2022.6.15)\n",
            "Requirement already satisfied: chardet<4,>=3.0.2 in /usr/local/lib/python3.7/dist-packages (from requests>=2.19->qiskit-ibmq-provider==0.19.2->qiskit) (3.0.4)\n",
            "Requirement already satisfied: idna<3,>=2.5 in /usr/local/lib/python3.7/dist-packages (from requests>=2.19->qiskit-ibmq-provider==0.19.2->qiskit) (2.10)\n",
            "Collecting cryptography>=1.3\n",
            "  Downloading cryptography-37.0.2-cp36-abi3-manylinux_2_24_x86_64.whl (4.0 MB)\n",
            "\u001b[K     |████████████████████████████████| 4.0 MB 41.3 MB/s \n",
            "\u001b[?25hCollecting ntlm-auth>=1.0.2\n",
            "  Downloading ntlm_auth-1.5.0-py2.py3-none-any.whl (29 kB)\n",
            "Requirement already satisfied: cffi>=1.12 in /usr/local/lib/python3.7/dist-packages (from cryptography>=1.3->requests-ntlm>=1.1.0->qiskit-ibmq-provider==0.19.2->qiskit) (1.15.0)\n",
            "Requirement already satisfied: pycparser in /usr/local/lib/python3.7/dist-packages (from cffi>=1.12->cryptography>=1.3->requests-ntlm>=1.1.0->qiskit-ibmq-provider==0.19.2->qiskit) (2.21)\n",
            "Collecting pbr!=2.1.0,>=2.0.0\n",
            "  Downloading pbr-5.9.0-py2.py3-none-any.whl (112 kB)\n",
            "\u001b[K     |████████████████████████████████| 112 kB 63.2 MB/s \n",
            "\u001b[?25hRequirement already satisfied: importlib-metadata>=1.7.0 in /usr/local/lib/python3.7/dist-packages (from stevedore>=3.0.0->qiskit-terra==0.21.0->qiskit) (4.11.4)\n",
            "Requirement already satisfied: zipp>=0.5 in /usr/local/lib/python3.7/dist-packages (from importlib-metadata>=1.7.0->stevedore>=3.0.0->qiskit-terra==0.21.0->qiskit) (3.8.0)\n",
            "Requirement already satisfied: mpmath>=0.19 in /usr/local/lib/python3.7/dist-packages (from sympy>=1.3->qiskit-terra==0.21.0->qiskit) (1.2.1)\n",
            "Building wheels for collected packages: qiskit\n",
            "  Building wheel for qiskit (setup.py) ... \u001b[?25l\u001b[?25hdone\n",
            "  Created wheel for qiskit: filename=qiskit-0.37.0-py3-none-any.whl size=12028 sha256=906b3839fa16c0d72c1e523f1be00cec94cb2ed8b2b4d02abe46aa72352d7d78\n",
            "  Stored in directory: /root/.cache/pip/wheels/ed/f9/fa/3ed81abb79590bf4c0432e7816bcdf3f0dbd1ba5aeb3eeddf7\n",
            "Successfully built qiskit\n",
            "Installing collected packages: pbr, tweedledum, symengine, stevedore, shared-memory38, scipy, retworkx, ply, ntlm-auth, cryptography, websockets, websocket-client, requests-ntlm, qiskit-terra, qiskit-ibmq-provider, qiskit-aer, qiskit\n",
            "  Attempting uninstall: scipy\n",
            "    Found existing installation: scipy 1.4.1\n",
            "    Uninstalling scipy-1.4.1:\n",
            "      Successfully uninstalled scipy-1.4.1\n",
            "\u001b[31mERROR: pip's dependency resolver does not currently take into account all the packages that are installed. This behaviour is the source of the following dependency conflicts.\n",
            "albumentations 0.1.12 requires imgaug<0.2.7,>=0.2.5, but you have imgaug 0.2.9 which is incompatible.\u001b[0m\n",
            "Successfully installed cryptography-37.0.2 ntlm-auth-1.5.0 pbr-5.9.0 ply-3.11 qiskit-0.37.0 qiskit-aer-0.10.4 qiskit-ibmq-provider-0.19.2 qiskit-terra-0.21.0 requests-ntlm-1.1.0 retworkx-0.11.0 scipy-1.7.3 shared-memory38-0.1.2 stevedore-3.5.0 symengine-0.9.2 tweedledum-1.1.1 websocket-client-1.3.3 websockets-10.3\n"
          ]
        }
      ]
    },
    {
      "cell_type": "code",
      "source": [
        "import numpy as np\n",
        "from qiskit import *\n",
        "pi = np.pi\n",
        "q = QuantumRegister(6)\n",
        "c = ClassicalRegister(2)\n",
        "hhl = QuantumCircuit(q, c)"
      ],
      "metadata": {
        "id": "vcXmx5T4SpEw"
      },
      "execution_count": 3,
      "outputs": []
    },
    {
      "cell_type": "markdown",
      "source": [
        "The algorithm performs the following actions:\n",
        "1) Extract the eigenvalues of A via quantum phase estimation\n",
        "2) Controlled rotations of ancilla qubit\n",
        "3) Uncompute with inverse quantum phase estimation"
      ],
      "metadata": {
        "id": "VL9WsM_j3ZHq"
      }
    },
    {
      "cell_type": "markdown",
      "source": [
        "## Superposition and Quantum Circuit Definition"
      ],
      "metadata": {
        "id": "Oas0yEHv2vzG"
      }
    },
    {
      "cell_type": "markdown",
      "source": [
        "The input register begins with a superposition of eigenvectors. The initial aim is to create a superposition of A as a Hamiltonian for different time durations."
      ],
      "metadata": {
        "id": "jcMLpvCj4AMw"
      }
    },
    {
      "cell_type": "code",
      "source": [
        "# Superposition\n",
        "hhl.h(q[1])\n",
        "hhl.h(q[2])\n",
        "# Controlled-U0\n",
        "hhl.cu3(-pi/2, -pi/2, pi/2, q[2], q[3])\n",
        "# hhl.cu1(3*pi/4, q[2], q[3])\n",
        "hhl.cp(3*pi/4, q[2], q[3])\n",
        "hhl.cx(q[2], q[3])\n",
        "# hhl.cu1(3*pi/4, q[2], q[3])\n",
        "hhl.cp(3*pi/4, q[2], q[3])\n",
        "hhl.cx(q[2], q[3])\n",
        "# Controlled-U1\n",
        "hhl.cx(q[1], q[3])"
      ],
      "metadata": {
        "colab": {
          "base_uri": "https://localhost:8080/"
        },
        "id": "8KUBrPRqSpKM",
        "outputId": "4b643c56-e484-4957-8496-58e0fc75a517"
      },
      "execution_count": 4,
      "outputs": [
        {
          "output_type": "stream",
          "name": "stderr",
          "text": [
            "/usr/local/lib/python3.7/dist-packages/ipykernel_launcher.py:5: DeprecationWarning: The QuantumCircuit.cu3 method is deprecated as of 0.16.0. It will be removed no earlier than 3 months after the release date. You should use the QuantumCircuit.cu method instead, where cu3(ϴ,φ,λ) = cu(ϴ,φ,λ,0).\n",
            "  \"\"\"\n"
          ]
        },
        {
          "output_type": "execute_result",
          "data": {
            "text/plain": [
              "<qiskit.circuit.instructionset.InstructionSet at 0x7f31b1219cd0>"
            ]
          },
          "metadata": {},
          "execution_count": 4
        }
      ]
    },
    {
      "cell_type": "markdown",
      "source": [
        "## Inverse QFT"
      ],
      "metadata": {
        "id": "73sOhQwe4ZQ1"
      }
    },
    {
      "cell_type": "markdown",
      "source": [
        "Apply the quantum Inverse Fourier Transform to write the phase to a register."
      ],
      "metadata": {
        "id": "vQURmq4y5C77"
      }
    },
    {
      "cell_type": "code",
      "source": [
        "hhl.swap(q[1], q[2])\n",
        "hhl.h(q[2])\n",
        "hhl.cp(-pi/2, q[1], q[2])\n",
        "hhl.h(q[1])"
      ],
      "metadata": {
        "colab": {
          "base_uri": "https://localhost:8080/"
        },
        "id": "QJ38zLgwWwrY",
        "outputId": "3b12fd15-de99-4fd8-bcfb-e4becd5dbb05"
      },
      "execution_count": 5,
      "outputs": [
        {
          "output_type": "execute_result",
          "data": {
            "text/plain": [
              "<qiskit.circuit.instructionset.InstructionSet at 0x7f31b128ad90>"
            ]
          },
          "metadata": {},
          "execution_count": 5
        }
      ]
    },
    {
      "cell_type": "code",
      "source": [
        "# Ancilla Rotation "
      ],
      "metadata": {
        "id": "GjDYRnUaWwu1"
      },
      "execution_count": 6,
      "outputs": []
    },
    {
      "cell_type": "code",
      "source": [
        "hhl.cu(0.392699, 0, 0, 0, q[1], q[0]) # Controlled-RY0\n",
        "hhl.cu(0.19634955, 0, 0, 0, q[2], q[0]) # Controlled-RY1"
      ],
      "metadata": {
        "colab": {
          "base_uri": "https://localhost:8080/"
        },
        "id": "o0gyL_xbWwx6",
        "outputId": "c61840a1-bb17-4224-b62e-cbe6900b59b8"
      },
      "execution_count": 7,
      "outputs": [
        {
          "output_type": "execute_result",
          "data": {
            "text/plain": [
              "<qiskit.circuit.instructionset.InstructionSet at 0x7f31b1219e50>"
            ]
          },
          "metadata": {},
          "execution_count": 7
        }
      ]
    },
    {
      "cell_type": "markdown",
      "source": [
        "Now perform operations on the phase to invert it. In other words, uncompute all operations (except for those that store the desired information in the final registers)."
      ],
      "metadata": {
        "id": "AifRKUvO5QJN"
      }
    },
    {
      "cell_type": "code",
      "source": [
        "# QPE Uncompute Action"
      ],
      "metadata": {
        "id": "bM-Eu0-WYEpl"
      },
      "execution_count": 8,
      "outputs": []
    },
    {
      "cell_type": "code",
      "source": [
        "hhl.swap(q[1], q[2])\n",
        "hhl.h(q[1])\n",
        "hhl.cp(pi/2, q[1], q[2]) # Inverse(Dagger(Controlled-S))\n",
        "hhl.h(q[2])\n",
        "hhl.swap(q[2], q[1])\n",
        "# Inverse(Controlled-U1)\n",
        "hhl.cx(q[1], q[3])\n",
        "# Inverse(Controlled-U0)\n",
        "hhl.cx(q[2], q[3])\n",
        "hhl.cp(-3*pi/4, q[2], q[3])\n",
        "hhl.cx(q[2], q[3])\n",
        "hhl.cp(-3*pi/4, q[2], q[3])\n",
        "hhl.cu(-pi/2, pi/2, -pi/2, 0, q[2], q[3])\n",
        "# End of Inverse(controlled-U0)\n",
        "hhl.h(q[2])\n",
        "hhl.h(q[1])"
      ],
      "metadata": {
        "colab": {
          "base_uri": "https://localhost:8080/"
        },
        "id": "CUUHkLXEYjgr",
        "outputId": "4ef40659-ac1a-42ff-a061-a9f99b5767aa"
      },
      "execution_count": 9,
      "outputs": [
        {
          "output_type": "execute_result",
          "data": {
            "text/plain": [
              "<qiskit.circuit.instructionset.InstructionSet at 0x7f31b1229f10>"
            ]
          },
          "metadata": {},
          "execution_count": 9
        }
      ]
    },
    {
      "cell_type": "markdown",
      "source": [
        "Now prepare correct output state to perform swap test with outcome. "
      ],
      "metadata": {
        "id": "zujTMPdu5qr5"
      }
    },
    {
      "cell_type": "code",
      "source": [
        "# Post-selection"
      ],
      "metadata": {
        "id": "1Mtjg2RecPxO"
      },
      "execution_count": 10,
      "outputs": []
    },
    {
      "cell_type": "code",
      "source": [
        "# Target state preparation\n",
        "hhl.rz(-pi, q[4])\n",
        "hhl.p(pi, q[4])\n",
        "hhl.h(q[4])\n",
        "hhl.ry(-0.9311623288419387, q[4])\n",
        "hhl.rz(pi, q[4])\n",
        "# Swap test\n",
        "hhl.h(q[5])\n",
        "hhl.cx(q[4], q[3])\n",
        "hhl.ccx(q[5], q[3], q[4])\n",
        "hhl.cx(q[4], q[3])\n",
        "hhl.h(q[5])\n",
        "hhl.barrier(q)\n",
        "hhl.measure(q[0], c[0])\n",
        "hhl.measure(q[5], c[1])"
      ],
      "metadata": {
        "colab": {
          "base_uri": "https://localhost:8080/"
        },
        "id": "eLC0jj3jcP0Z",
        "outputId": "35044330-d7e3-4c3c-a5b7-9f33737902da"
      },
      "execution_count": 11,
      "outputs": [
        {
          "output_type": "execute_result",
          "data": {
            "text/plain": [
              "<qiskit.circuit.instructionset.InstructionSet at 0x7f31b1232610>"
            ]
          },
          "metadata": {},
          "execution_count": 11
        }
      ]
    },
    {
      "cell_type": "markdown",
      "source": [
        "Measure ancilla register for post-selection, and measure result of swap test. Define helper functions to calculate success probability."
      ],
      "metadata": {
        "id": "JyJZKIL251g0"
      }
    },
    {
      "cell_type": "code",
      "source": [
        "# Success Functions"
      ],
      "metadata": {
        "id": "XWTZEBZEcP3S"
      },
      "execution_count": 12,
      "outputs": []
    },
    {
      "cell_type": "code",
      "source": [
        "def get_psuccess(counts):\n",
        "\n",
        "  try:\n",
        "    succ_rotation_fail_swap = counts['11']\n",
        "  except KeyError:\n",
        "    succ_rotation_fail_swap = 0\n",
        "  try:\n",
        "    succ_rotation_succ_swap = counts['01']\n",
        "  except KeyError:\n",
        "    succ_rotation_succ_swap = 0\n",
        "  succ_rotation = succ_rotation_succ_swap + succ_rotation_fail_swap\n",
        "  try:\n",
        "    prob_swap_test_success = succ_rotation_succ_swap / succ_rotation\n",
        "  except ZeroDivisionError:\n",
        "    prob_swap_test_success = 0\n",
        "  return prob_swap_test_success"
      ],
      "metadata": {
        "id": "LsHeEtTBcP6A"
      },
      "execution_count": 13,
      "outputs": []
    },
    {
      "cell_type": "markdown",
      "source": [
        "Run circuit on simulator."
      ],
      "metadata": {
        "id": "YEbU2K556GZH"
      }
    },
    {
      "cell_type": "code",
      "source": [
        "# Run circuit"
      ],
      "metadata": {
        "id": "EKTSAs2-hTZC"
      },
      "execution_count": 14,
      "outputs": []
    },
    {
      "cell_type": "code",
      "source": [
        "backend = BasicAer.get_backend('qasm_simulator')\n",
        "job = execute(hhl, backend, shots=100)\n",
        "result = job.result()\n",
        "counts = result.get_counts(hhl)\n",
        "print(get_psuccess(counts))"
      ],
      "metadata": {
        "colab": {
          "base_uri": "https://localhost:8080/"
        },
        "id": "6CSl65XuhVaj",
        "outputId": "a06f5baf-7869-4705-cdca-29cea9bf57b0"
      },
      "execution_count": 15,
      "outputs": [
        {
          "output_type": "stream",
          "name": "stdout",
          "text": [
            "0.0\n"
          ]
        }
      ]
    },
    {
      "cell_type": "code",
      "source": [
        "import qiskit.tools.jupyter\n",
        "%qiskit_version_table\n",
        "%qiskit_copyright"
      ],
      "metadata": {
        "id": "JpcSZ6SPiEb-",
        "colab": {
          "base_uri": "https://localhost:8080/",
          "height": 534
        },
        "outputId": "0794f8ba-ddbe-425e-94f9-25c7e08b6791"
      },
      "execution_count": 16,
      "outputs": [
        {
          "output_type": "display_data",
          "data": {
            "text/plain": [
              "<IPython.core.display.HTML object>"
            ],
            "text/html": [
              "<h3>Version Information</h3><table><tr><th>Qiskit Software</th><th>Version</th></tr><tr><td><code>qiskit-terra</code></td><td>0.21.0</td></tr><tr><td><code>qiskit-aer</code></td><td>0.10.4</td></tr><tr><td><code>qiskit-ibmq-provider</code></td><td>0.19.2</td></tr><tr><th>System information</th></tr><tr><td>Python version</td><td>3.7.13</td></tr><tr><td>Python compiler</td><td>GCC 7.5.0</td></tr><tr><td>Python build</td><td>default, Apr 24 2022 01:04:09</td></tr><tr><td>OS</td><td>Linux</td></tr><tr><td>CPUs</td><td>1</td></tr><tr><td>Memory (Gb)</td><td>12.682514190673828</td></tr><tr><td colspan='2'>Sat Jul 02 03:18:23 2022 UTC</td></tr></table>"
            ]
          },
          "metadata": {}
        },
        {
          "output_type": "display_data",
          "data": {
            "text/plain": [
              "<IPython.core.display.HTML object>"
            ],
            "text/html": [
              "<div style='width: 100%; background-color:#d5d9e0;padding-left: 10px; padding-bottom: 10px; padding-right: 10px; padding-top: 5px'><h3>This code is a part of Qiskit</h3><p>&copy; Copyright IBM 2017, 2022.</p><p>This code is licensed under the Apache License, Version 2.0. You may<br>obtain a copy of this license in the LICENSE.txt file in the root directory<br> of this source tree or at http://www.apache.org/licenses/LICENSE-2.0.<p>Any modifications or derivative works of this code must retain this<br>copyright notice, and modified files need to carry a notice indicating<br>that they have been altered from the originals.</p></div>"
            ]
          },
          "metadata": {}
        }
      ]
    },
    {
      "cell_type": "markdown",
      "source": [
        ""
      ],
      "metadata": {
        "id": "NwiPxYws1loB"
      }
    }
  ]
}