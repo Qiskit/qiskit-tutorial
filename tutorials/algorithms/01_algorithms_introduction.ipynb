{
 "cells": [
  {
   "cell_type": "markdown",
   "metadata": {},
   "source": [
    "# An Introduction to Algorithms in Qiskit\n",
    "\n",
    "This is an introduction to algorithms in Qiskit and provides a high-level overview to help understand the various aspects of the functionality to get started. Other tutorials will provide more in-depth material, on given algorithms, and ways to use them etc."
   ]
  },
  {
   "cell_type": "markdown",
   "metadata": {},
   "source": [
    "## How is the algorithm library structured?\n",
    "\n",
    "Qiskit provides a number of [Algorithms](https://qiskit.org/documentation/apidoc/algorithms.html) and they are grouped by category according to the task they can perform. For instance `Minimum Eigensolvers` to find the smallest eigen value of an operator, for example ground state energy of a chemistry Hamiltonian or a solution to an optimization problem when expressed as an Ising Hamiltonian. There are `Time Evolvers` for the time evolution of quantum systems and `Amplitude Estimators` for value estimation that can be used say in financial applications. The full set of categories can be seen in the Algorithms documentation link above.\n",
    "\n",
    "Algorithms are configurable and often part of the configuration will be in the form of smaller building blocks, of which different instances of the building block type can be given. For instance with `VQE`, the Variational Quantum Eigensolver, it takes a trial wavefunction, in the form of a `QuantumCircuit` and a classical optimizer among other things.\n",
    "\n",
    "Let's take a look at an example to construct a VQE instance. Here `TwoLocal` is the variational form (trial wavefunction), a parameterized circuit which can be varied, and `SLSQP` a classical optimizer. These are created as separate instances and passed to VQE when it is constructed. Trying, for example, a different classical optimizer, or variational form is simply a case of creating an instance of the one you want and passing it into VQE."
   ]
  },
  {
   "cell_type": "code",
   "execution_count": 9,
   "metadata": {},
   "outputs": [],
   "source": [
    "from qiskit.algorithms.minimum_eigensolvers import VQE\n",
    "from qiskit.algorithms.optimizers import SLSQP\n",
    "from qiskit.circuit.library import TwoLocal\n",
    "\n",
    "num_qubits = 2\n",
    "ansatz = TwoLocal(num_qubits, 'ry', 'cz')\n",
    "optimizer = SLSQP(maxiter=1000)"
   ]
  },
  {
   "cell_type": "markdown",
   "metadata": {},
   "source": [
    "Let's draw the ansatz so we can see it's a `QuantumCircuit` where θ\\[0\\] through θ\\[7\\] will be the parameters that are varied as VQE optimizer finds the minimum eigenvalue. We'll come back to the parameters later in a working example below."
   ]
  },
  {
   "cell_type": "code",
   "execution_count": 10,
   "metadata": {},
   "outputs": [
    {
     "data": {
      "text/html": [
       "<pre style=\"word-wrap: normal;white-space: pre;background: #fff0;line-height: 1.1;font-family: &quot;Courier New&quot;,Courier,monospace\">     ┌────────────────────────────────────────────────────┐\n",
       "q_0: ┤0                                                   ├\n",
       "     │  TwoLocal(θ[0],θ[1],θ[2],θ[3],θ[4],θ[5],θ[6],θ[7]) │\n",
       "q_1: ┤1                                                   ├\n",
       "     └────────────────────────────────────────────────────┘</pre>"
      ],
      "text/plain": [
       "     ┌────────────────────────────────────────────────────┐\n",
       "q_0: ┤0                                                   ├\n",
       "     │  TwoLocal(θ[0],θ[1],θ[2],θ[3],θ[4],θ[5],θ[6],θ[7]) │\n",
       "q_1: ┤1                                                   ├\n",
       "     └────────────────────────────────────────────────────┘"
      ]
     },
     "execution_count": 10,
     "metadata": {},
     "output_type": "execute_result"
    },
    {
     "data": {
      "text/html": [
       "<pre style=\"word-wrap: normal;white-space: pre;background: #fff0;line-height: 1.1;font-family: &quot;Courier New&quot;,Courier,monospace\">     ┌────────────────────────────────────────────────────┐\n",
       "q_0: ┤0                                                   ├\n",
       "     │  TwoLocal(θ[0],θ[1],θ[2],θ[3],θ[4],θ[5],θ[6],θ[7]) │\n",
       "q_1: ┤1                                                   ├\n",
       "     └────────────────────────────────────────────────────┘</pre>"
      ],
      "text/plain": [
       "     ┌────────────────────────────────────────────────────┐\n",
       "q_0: ┤0                                                   ├\n",
       "     │  TwoLocal(θ[0],θ[1],θ[2],θ[3],θ[4],θ[5],θ[6],θ[7]) │\n",
       "q_1: ┤1                                                   ├\n",
       "     └────────────────────────────────────────────────────┘"
      ]
     },
     "execution_count": 10,
     "metadata": {},
     "output_type": "execute_result"
    }
   ],
   "source": [
    "ansatz.draw()"
   ]
  },
  {
   "cell_type": "markdown",
   "metadata": {},
   "source": [
    "But more is needed before we can run the algorithm so let's get to that next."
   ]
  },
  {
   "cell_type": "markdown",
   "metadata": {},
   "source": [
    "## How to run an algorithm?\n",
    "\n",
    "Algorithms rely on the primitives to evaluate expectation values or sample circuits. The primitives can be based on a simulator or real device and can be used interchangeably in the algorithms, as they all implement the same interface.\n",
    "\n",
    "In the VQE, we have to evaluate expectation values, so for example we can use the `qiskit.primitives.Estimator` which is shipped with the default Qiskit Terra installation."
   ]
  },
  {
   "cell_type": "code",
   "execution_count": 11,
   "metadata": {},
   "outputs": [],
   "source": [
    "from qiskit.primitives import Estimator\n",
    "\n",
    "estimator = Estimator()"
   ]
  },
  {
   "cell_type": "markdown",
   "metadata": {},
   "source": [
    "This estimator uses an exact, statevector simulation to evaluate the expectation values. We can also use a shot-based and noisy simulators or real backends instead. For more information of the simulators you can check out [Qiskit Aer](https://qiskit.org/documentation/apidoc/aer_primitives.html) and for the actual hardware [Qiskit IBM Runtime](https://qiskit.org/documentation/partners/qiskit_ibm_runtime/).\n",
    "\n",
    "With all the ingredients ready, we can now instantiate the VQE:"
   ]
  },
  {
   "cell_type": "code",
   "execution_count": 12,
   "metadata": {},
   "outputs": [],
   "source": [
    "vqe = VQE(estimator, ansatz, optimizer)"
   ]
  },
  {
   "cell_type": "markdown",
   "metadata": {},
   "source": [
    "Now we can call the [compute_mininum_eigenvalue()](https://qiskit.org/documentation/stubs/qiskit.algorithms.minimum_eigensolvers.VQE.compute_minimum_eigenvalue.html#qiskit.algorithms.minimum_eigensolvers.VQE.compute_minimum_eigenvalue) method. The latter is the interface of choice for the application modules, such as Nature and Optimization, in order that they can work interchangeably with any algorithm within the specific category."
   ]
  },
  {
   "cell_type": "markdown",
   "metadata": {},
   "source": [
    "## A complete working example\n",
    "\n",
    "Let's put what we have learned from above together and create a complete working example. VQE will find the minimum eigenvalue, i.e. minimum energy value of a Hamiltonian operator and hence we need such an operator for VQE to work with. Such an operator is given below. This was originally created by the Nature application module as the Hamiltonian for an H2 molecule at 0.735A interatomic distance. It's a sum of Pauli terms as below, but for now I am not going to say anything further about it since the goal is to run the algorithm, but further information on operators can be found in other tutorials."
   ]
  },
  {
   "cell_type": "code",
   "execution_count": 13,
   "metadata": {},
   "outputs": [],
   "source": [
    "from qiskit.quantum_info import SparsePauliOp\n",
    "\n",
    "H2_op = SparsePauliOp.from_list([\n",
    "    (\"II\", -1.052373245772859),\n",
    "    (\"IZ\", 0.39793742484318045),\n",
    "    (\"ZI\", -0.39793742484318045),\n",
    "    (\"ZZ\", -0.01128010425623538),\n",
    "    (\"XX\", 0.18093119978423156)\n",
    "])"
   ]
  },
  {
   "cell_type": "markdown",
   "metadata": {},
   "source": [
    "So let's run VQE and print the result object it returns."
   ]
  },
  {
   "cell_type": "code",
   "execution_count": 14,
   "metadata": {
    "scrolled": true
   },
   "outputs": [
    {
     "name": "stdout",
     "output_type": "stream",
     "text": [
      "{   'aux_operators_evaluated': None,\n",
      "    'cost_function_evals': 75,\n",
      "    'eigenvalue': -1.8572749541743194,\n",
      "    'optimal_circuit': <qiskit.circuit.library.n_local.two_local.TwoLocal object at 0x7f9109b037f0>,\n",
      "    'optimal_parameters': {   ParameterVectorElement(θ[6]): -2.077379135168207,\n",
      "                              ParameterVectorElement(θ[1]): 5.047392836173133,\n",
      "                              ParameterVectorElement(θ[4]): 3.1854370137116255,\n",
      "                              ParameterVectorElement(θ[5]): -3.676398676121086,\n",
      "                              ParameterVectorElement(θ[2]): 1.258263316561935,\n",
      "                              ParameterVectorElement(θ[3]): -4.257867896850979,\n",
      "                              ParameterVectorElement(θ[0]): 2.4176568754401284,\n",
      "                              ParameterVectorElement(θ[7]): 6.590370798284236},\n",
      "    'optimal_point': array([ 2.41765688,  5.04739284,  1.25826332, -4.2578679 ,  3.18543701,\n",
      "       -3.67639868, -2.07737914,  6.5903708 ]),\n",
      "    'optimal_value': -1.8572749541743194,\n",
      "    'optimizer_evals': None,\n",
      "    'optimizer_result': <qiskit.algorithms.optimizers.optimizer.OptimizerResult object at 0x7f9131191480>,\n",
      "    'optimizer_time': 0.25107717514038086}\n",
      "{   'aux_operators_evaluated': None,\n",
      "    'cost_function_evals': 75,\n",
      "    'eigenvalue': -1.8572749541743194,\n",
      "    'optimal_circuit': <qiskit.circuit.library.n_local.two_local.TwoLocal object at 0x7f9109b037f0>,\n",
      "    'optimal_parameters': {   ParameterVectorElement(θ[6]): -2.077379135168207,\n",
      "                              ParameterVectorElement(θ[1]): 5.047392836173133,\n",
      "                              ParameterVectorElement(θ[4]): 3.1854370137116255,\n",
      "                              ParameterVectorElement(θ[5]): -3.676398676121086,\n",
      "                              ParameterVectorElement(θ[2]): 1.258263316561935,\n",
      "                              ParameterVectorElement(θ[3]): -4.257867896850979,\n",
      "                              ParameterVectorElement(θ[0]): 2.4176568754401284,\n",
      "                              ParameterVectorElement(θ[7]): 6.590370798284236},\n",
      "    'optimal_point': array([ 2.41765688,  5.04739284,  1.25826332, -4.2578679 ,  3.18543701,\n",
      "       -3.67639868, -2.07737914,  6.5903708 ]),\n",
      "    'optimal_value': -1.8572749541743194,\n",
      "    'optimizer_evals': None,\n",
      "    'optimizer_result': <qiskit.algorithms.optimizers.optimizer.OptimizerResult object at 0x7f9131191480>,\n",
      "    'optimizer_time': 0.25107717514038086}\n"
     ]
    }
   ],
   "source": [
    "result = vqe.compute_minimum_eigenvalue(H2_op)\n",
    "print(result)"
   ]
  },
  {
   "cell_type": "markdown",
   "metadata": {},
   "source": [
    "From the above result we can see the number of cost function (=energy) evaluations the optimizer took until it found the minimum eigenvalue of $\\approx -1.85727$ which is the electronic ground state energy of the given H2 molecule. The optimal parameters of the ansatz can also be seen which are the values that were in the ansatz at the minimum value."
   ]
  },
  {
   "cell_type": "markdown",
   "metadata": {},
   "source": [
    "## Updating the primitive inside VQE\n",
    "\n",
    "To close off let's also change the estimator primitive inside the a VQE. Maybe you're satisfied with the simulation results and now want to use a shot-based simulator, or run on hardware!\n",
    "\n",
    "In this example we're changing to a shot-based estimator provided by Qiskit Aer. For noisy loss functions, the SPSA optimizer typically performs well, so we also update the optimizer."
   ]
  },
  {
   "cell_type": "code",
   "execution_count": 15,
   "metadata": {},
   "outputs": [
    {
     "name": "stdout",
     "output_type": "stream",
     "text": [
      "{   'aux_operators_evaluated': None,\n",
      "    'cost_function_evals': 200,\n",
      "    'eigenvalue': -1.8559855500508888,\n",
      "    'optimal_circuit': <qiskit.circuit.library.n_local.two_local.TwoLocal object at 0x7f90f0932c50>,\n",
      "    'optimal_parameters': {   ParameterVectorElement(θ[6]): 5.266634639353547,\n",
      "                              ParameterVectorElement(θ[1]): -5.417720341657161,\n",
      "                              ParameterVectorElement(θ[4]): -2.333516778598364,\n",
      "                              ParameterVectorElement(θ[5]): -4.27011453389914,\n",
      "                              ParameterVectorElement(θ[2]): 2.571507548544991,\n",
      "                              ParameterVectorElement(θ[3]): -0.6423439162197092,\n",
      "                              ParameterVectorElement(θ[0]): -2.860735780428156,\n",
      "                              ParameterVectorElement(θ[7]): -5.665634321346159},\n",
      "    'optimal_point': array([-2.86073578, -5.41772034,  2.57150755, -0.64234392, -2.33351678,\n",
      "       -4.27011453,  5.26663464, -5.66563432]),\n",
      "    'optimal_value': -1.8559855500508888,\n",
      "    'optimizer_evals': None,\n",
      "    'optimizer_result': <qiskit.algorithms.optimizers.optimizer.OptimizerResult object at 0x7f9109f4bdc0>,\n",
      "    'optimizer_time': 5.944442272186279}\n",
      "{   'aux_operators_evaluated': None,\n",
      "    'cost_function_evals': 200,\n",
      "    'eigenvalue': -1.8559855500508888,\n",
      "    'optimal_circuit': <qiskit.circuit.library.n_local.two_local.TwoLocal object at 0x7f90f0932c50>,\n",
      "    'optimal_parameters': {   ParameterVectorElement(θ[6]): 5.266634639353547,\n",
      "                              ParameterVectorElement(θ[1]): -5.417720341657161,\n",
      "                              ParameterVectorElement(θ[4]): -2.333516778598364,\n",
      "                              ParameterVectorElement(θ[5]): -4.27011453389914,\n",
      "                              ParameterVectorElement(θ[2]): 2.571507548544991,\n",
      "                              ParameterVectorElement(θ[3]): -0.6423439162197092,\n",
      "                              ParameterVectorElement(θ[0]): -2.860735780428156,\n",
      "                              ParameterVectorElement(θ[7]): -5.665634321346159},\n",
      "    'optimal_point': array([-2.86073578, -5.41772034,  2.57150755, -0.64234392, -2.33351678,\n",
      "       -4.27011453,  5.26663464, -5.66563432]),\n",
      "    'optimal_value': -1.8559855500508888,\n",
      "    'optimizer_evals': None,\n",
      "    'optimizer_result': <qiskit.algorithms.optimizers.optimizer.OptimizerResult object at 0x7f9109f4bdc0>,\n",
      "    'optimizer_time': 5.944442272186279}\n"
     ]
    }
   ],
   "source": [
    "from qiskit.algorithms.optimizers import SPSA\n",
    "from qiskit_aer.primitives import Estimator as AerEstimator\n",
    "\n",
    "aer_estimator = AerEstimator()\n",
    "\n",
    "vqe.estimator = aer_estimator\n",
    "vqe.optimizer = SPSA(maxiter=100)\n",
    "result = vqe.compute_minimum_eigenvalue(operator=H2_op)\n",
    "print(result)"
   ]
  },
  {
   "cell_type": "markdown",
   "metadata": {},
   "source": [
    "Note: We do not fix the random seed in the simulators here, so re-running gives slightly varying results."
   ]
  },
  {
   "cell_type": "markdown",
   "metadata": {},
   "source": [
    "This concludes this introduction to algorithms in Qiskit. Please check out the other algorithm tutorials in this series for both broader as well as more in depth coverage of the algorithms."
   ]
  },
  {
   "cell_type": "code",
   "execution_count": 16,
   "metadata": {},
   "outputs": [
    {
     "data": {
      "text/html": [
       "<h3>Version Information</h3><table><tr><th>Qiskit Software</th><th>Version</th></tr><tr><td><code>qiskit-terra</code></td><td>0.22.2</td></tr><tr><td><code>qiskit-aer</code></td><td>0.11.1</td></tr><tr><td><code>qiskit-ibmq-provider</code></td><td>0.19.2</td></tr><tr><td><code>qiskit</code></td><td>0.39.2</td></tr><tr><th>System information</th></tr><tr><td>Python version</td><td>3.10.6</td></tr><tr><td>Python compiler</td><td>Clang 12.0.0 </td></tr><tr><td>Python build</td><td>main, Oct 24 2022 11:04:34</td></tr><tr><td>OS</td><td>Darwin</td></tr><tr><td>CPUs</td><td>4</td></tr><tr><td>Memory (Gb)</td><td>32.0</td></tr><tr><td colspan='2'>Mon Nov 14 17:31:26 2022 CET</td></tr></table>"
      ],
      "text/plain": [
       "<IPython.core.display.HTML object>"
      ]
     },
     "metadata": {},
     "output_type": "display_data"
    },
    {
     "data": {
      "text/html": [
       "<h3>Version Information</h3><table><tr><th>Qiskit Software</th><th>Version</th></tr><tr><td><code>qiskit-terra</code></td><td>0.22.2</td></tr><tr><td><code>qiskit-aer</code></td><td>0.11.1</td></tr><tr><td><code>qiskit-ibmq-provider</code></td><td>0.19.2</td></tr><tr><td><code>qiskit</code></td><td>0.39.2</td></tr><tr><th>System information</th></tr><tr><td>Python version</td><td>3.10.6</td></tr><tr><td>Python compiler</td><td>Clang 12.0.0 </td></tr><tr><td>Python build</td><td>main, Oct 24 2022 11:04:34</td></tr><tr><td>OS</td><td>Darwin</td></tr><tr><td>CPUs</td><td>4</td></tr><tr><td>Memory (Gb)</td><td>32.0</td></tr><tr><td colspan='2'>Mon Nov 14 17:31:26 2022 CET</td></tr></table>"
      ],
      "text/plain": [
       "<IPython.core.display.HTML object>"
      ]
     },
     "metadata": {},
     "output_type": "display_data"
    },
    {
     "data": {
      "text/html": [
       "<div style='width: 100%; background-color:#d5d9e0;padding-left: 10px; padding-bottom: 10px; padding-right: 10px; padding-top: 5px'><h3>This code is a part of Qiskit</h3><p>&copy; Copyright IBM 2017, 2022.</p><p>This code is licensed under the Apache License, Version 2.0. You may<br>obtain a copy of this license in the LICENSE.txt file in the root directory<br> of this source tree or at http://www.apache.org/licenses/LICENSE-2.0.<p>Any modifications or derivative works of this code must retain this<br>copyright notice, and modified files need to carry a notice indicating<br>that they have been altered from the originals.</p></div>"
      ],
      "text/plain": [
       "<IPython.core.display.HTML object>"
      ]
     },
     "metadata": {},
     "output_type": "display_data"
    },
    {
     "data": {
      "text/html": [
       "<div style='width: 100%; background-color:#d5d9e0;padding-left: 10px; padding-bottom: 10px; padding-right: 10px; padding-top: 5px'><h3>This code is a part of Qiskit</h3><p>&copy; Copyright IBM 2017, 2022.</p><p>This code is licensed under the Apache License, Version 2.0. You may<br>obtain a copy of this license in the LICENSE.txt file in the root directory<br> of this source tree or at http://www.apache.org/licenses/LICENSE-2.0.<p>Any modifications or derivative works of this code must retain this<br>copyright notice, and modified files need to carry a notice indicating<br>that they have been altered from the originals.</p></div>"
      ],
      "text/plain": [
       "<IPython.core.display.HTML object>"
      ]
     },
     "metadata": {},
     "output_type": "display_data"
    }
   ],
   "source": [
    "import qiskit.tools.jupyter\n",
    "%qiskit_version_table\n",
    "%qiskit_copyright"
   ]
  },
  {
   "cell_type": "code",
   "execution_count": null,
   "metadata": {},
   "outputs": [],
   "source": []
  }
 ],
 "metadata": {
  "kernelspec": {
   "display_name": "Python 3 (ipykernel)",
   "language": "python",
   "name": "python3"
  },
  "language_info": {
   "codemirror_mode": {
    "name": "ipython",
    "version": 3
   },
   "file_extension": ".py",
   "mimetype": "text/x-python",
   "name": "python",
   "nbconvert_exporter": "python",
   "pygments_lexer": "ipython3",
   "version": "3.10.6"
  }
 },
 "nbformat": 4,
 "nbformat_minor": 2
}
