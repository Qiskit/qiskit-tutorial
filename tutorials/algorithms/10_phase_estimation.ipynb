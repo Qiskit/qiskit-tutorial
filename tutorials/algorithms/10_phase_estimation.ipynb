{
 "cells": [
  {
   "cell_type": "markdown",
   "id": "objective-pierce",
   "metadata": {},
   "source": [
    "# Phase Estimation"
   ]
  },
  {
   "cell_type": "markdown",
   "id": "distant-toner",
   "metadata": {},
   "source": [
    "This tutorial walks through using the following subclasses of `PhaseEstimator`.\n",
    "\n",
    "* `PhaseEstimation` for using a quantum computer to solve the eigenvalue problem $U |\\phi\\rangle = \\exp(i2\\pi \\phi) |\\phi\\rangle$, where $U$ is a unitary operator.\n",
    "* `IterativePhaseEstimation` for solving the the preceeding problem using an iterative algorithm that uses fewer qubits.\n",
    "* `HamiltonianPhaseEstimation` for estimating the eigenvalue in $H |\\lambda\\rangle = \\lambda |\\lambda\\rangle$, where $H$ is a Hermitian operator."
   ]
  },
  {
   "cell_type": "markdown",
   "id": "equipped-lewis",
   "metadata": {},
   "source": [
    "First, we import some of the necessary modules and classes."
   ]
  },
  {
   "cell_type": "code",
   "execution_count": 1,
   "id": "mobile-tokyo",
   "metadata": {},
   "outputs": [],
   "source": [
    "import qiskit\n",
    "\n",
    "from qiskit.algorithms.phase_estimators import (\n",
    "    PhaseEstimation,\n",
    "    HamiltonianPhaseEstimation,\n",
    "    IterativePhaseEstimation,\n",
    ")"
   ]
  },
  {
   "cell_type": "markdown",
   "id": "inappropriate-density",
   "metadata": {},
   "source": [
    "We import some operators that we will use to express the unitaries and prepare the eigenstates."
   ]
  },
  {
   "cell_type": "code",
   "execution_count": 2,
   "id": "amazing-somalia",
   "metadata": {},
   "outputs": [],
   "source": [
    "from qiskit.opflow import H, X, Y, Z, I"
   ]
  },
  {
   "cell_type": "markdown",
   "id": "least-expression",
   "metadata": {},
   "source": [
    "## `PhaseEstimation`\n",
    "\n",
    "We begin with the simplest kind of problem supported by the `PhaseEstimator` subclasses, estimating the phase $\\phi$ in the eigenvalue problem\n",
    "\n",
    "$$U |\\phi\\rangle = \\exp(i2\\pi \\phi) |\\phi\\rangle,$$\n",
    "\n",
    "where $U$ is a unitary operator. All algorithms in this module return an estimate $\\phi \\in [0,1)$. The algorithm used by `PhaseEstimation` is described in Nielsen and Chuang.\n",
    "We assume that we can prepare a register in the state $|\\phi\\rangle$ and that we can implement $U$ in quantum circuits.\n",
    "\n",
    "For a concrete example, we choose $U = Z$ and $|\\phi\\rangle = |1\\rangle = X|0\\rangle$, so that $X$ is the eigenstate-preparation gate. Note that $Z|1\\rangle = -|1\\rangle$ and $-1 = \\exp(i \\pi)$, so we expect the algorithm to return $\\phi=1/2$."
   ]
  },
  {
   "cell_type": "markdown",
   "id": "prompt-semester",
   "metadata": {},
   "source": [
    "We will run the example on a quantum simulator, which we prepare like this:"
   ]
  },
  {
   "cell_type": "code",
   "execution_count": 3,
   "id": "mexican-portfolio",
   "metadata": {},
   "outputs": [],
   "source": [
    "backend = qiskit.Aer.get_backend(\"statevector_simulator\")\n",
    "qi = qiskit.utils.QuantumInstance(backend=backend)"
   ]
  },
  {
   "cell_type": "markdown",
   "id": "christian-turkey",
   "metadata": {},
   "source": [
    "Now, we set up the phase estimator as an instance of the class `PhaseEstimation`. If the phase can be represented exactly in $t$ bits as $\\phi = 0.\\phi_1 \\ldots \\phi_t$, then we need $t$ qubits in the phase estimation register. In the case at hand, $\\phi = 1/2$, this means $t=1$. We instantiate the phase estimator like this:"
   ]
  },
  {
   "cell_type": "code",
   "execution_count": 4,
   "id": "cutting-senior",
   "metadata": {},
   "outputs": [],
   "source": [
    "phase_estimator = PhaseEstimation\n",
    "num_evaluation_qubits=1\n",
    "phase_est = PhaseEstimation(num_evaluation_qubits=num_evaluation_qubits, quantum_instance=qi)"
   ]
  },
  {
   "cell_type": "markdown",
   "id": "similar-measure",
   "metadata": {},
   "source": [
    "`PhaseEstimation` requires that circuits that prepare the input state $\\phi\\rangle$ and implement $U$ be represented as instances of `QuantumCircuit`:"
   ]
  },
  {
   "cell_type": "code",
   "execution_count": 5,
   "id": "explicit-equivalent",
   "metadata": {},
   "outputs": [],
   "source": [
    "unitary_circuit = Z.to_circuit()\n",
    "state_preparation = X.to_circuit()"
   ]
  },
  {
   "cell_type": "markdown",
   "id": "confirmed-positive",
   "metadata": {},
   "source": [
    "Now we run the phase estimation algorithm and extract just the phase from the returned result object. The phase is equal to $0.5$ as expected."
   ]
  },
  {
   "cell_type": "code",
   "execution_count": 6,
   "id": "square-interface",
   "metadata": {
    "scrolled": true
   },
   "outputs": [
    {
     "data": {
      "text/plain": [
       "0.5"
      ]
     },
     "execution_count": 6,
     "metadata": {},
     "output_type": "execute_result"
    }
   ],
   "source": [
    "result = phase_est.estimate(unitary=unitary_circuit, state_preparation=state_preparation)\n",
    "result.phase"
   ]
  },
  {
   "cell_type": "markdown",
   "id": "drawn-finger",
   "metadata": {},
   "source": [
    "To get the other eigenvalue of $Z$, corresponding to the problem $Z|0\\rangle = |0\\rangle$, we need the input state $|0\\rangle$. Since $|0\\rangle$ is initial state of quantum computers and simulators, we don't need a preparation circuit. In this case we pass `None` for the preparation circuit."
   ]
  },
  {
   "cell_type": "code",
   "execution_count": 7,
   "id": "assigned-cabinet",
   "metadata": {},
   "outputs": [],
   "source": [
    "state_preparation = None"
   ]
  },
  {
   "cell_type": "markdown",
   "id": "communist-ordinary",
   "metadata": {},
   "source": [
    "We expect a phase $\\phi=0$ since $1 = \\exp(0)$:"
   ]
  },
  {
   "cell_type": "code",
   "execution_count": 8,
   "id": "sapphire-label",
   "metadata": {},
   "outputs": [
    {
     "data": {
      "text/plain": [
       "0.0"
      ]
     },
     "execution_count": 8,
     "metadata": {},
     "output_type": "execute_result"
    }
   ],
   "source": [
    "result = phase_est.estimate(unitary=unitary_circuit, state_preparation=state_preparation)\n",
    "result.phase"
   ]
  },
  {
   "cell_type": "markdown",
   "id": "measured-disney",
   "metadata": {},
   "source": [
    "## `IterativePhaseEstimation`"
   ]
  },
  {
   "cell_type": "markdown",
   "id": "exceptional-agreement",
   "metadata": {},
   "source": [
    "We can also solve the problems above using an alternative algorithm: iterative phase estimation. This is implemented by the class `IterativePhaseEstimation`."
   ]
  },
  {
   "cell_type": "markdown",
   "id": "fantastic-clock",
   "metadata": {},
   "source": [
    "Let's consider again the same problem as above $Z|1\\rangle = -|1\\rangle$. Because the phase $\\phi=1/2$ can be expressed with a single bit, we need a single iteration. We construct the phase estimation object."
   ]
  },
  {
   "cell_type": "code",
   "execution_count": 17,
   "id": "crucial-country",
   "metadata": {},
   "outputs": [],
   "source": [
    "num_iterations = 1\n",
    "iphase_est = IterativePhaseEstimation(num_iterations=num_iterations, quantum_instance=qi)"
   ]
  },
  {
   "cell_type": "markdown",
   "id": "smart-vertex",
   "metadata": {},
   "source": [
    "Recall that the state preparation circuit for this problem is $X$."
   ]
  },
  {
   "cell_type": "code",
   "execution_count": 18,
   "id": "theoretical-energy",
   "metadata": {},
   "outputs": [
    {
     "data": {
      "text/plain": [
       "0.5"
      ]
     },
     "execution_count": 18,
     "metadata": {},
     "output_type": "execute_result"
    }
   ],
   "source": [
    "state_preparation = X.to_circuit()\n",
    "\n",
    "result = iphase_est.estimate(unitary=unitary_circuit, state_preparation=state_preparation)\n",
    "result.phase"
   ]
  },
  {
   "cell_type": "markdown",
   "id": "treated-camel",
   "metadata": {},
   "source": [
    "## Estimating eigenvalues of a Hamiltonian"
   ]
  },
  {
   "cell_type": "markdown",
   "id": "detected-fancy",
   "metadata": {},
   "source": [
    "We choose a Hamiltonian that originates in a second-quantized model of the $\\text{H}_2$ molecule. The model produces a Hamiltonian with two Fermionic mode. Then, a procedure that maps each mode to a qubit is performed, with the following result:"
   ]
  },
  {
   "cell_type": "code",
   "execution_count": 65,
   "id": "latin-christianity",
   "metadata": {},
   "outputs": [],
   "source": [
    "hamiltonian = (-1.0523732457728587 * (I ^ I)) + (0.3979374248431802 * (I^Z)) \\\n",
    "+ (-0.3979374248431802 * (Z^I)) + (-0.011280104256235324 * (Z^Z)) + (0.18093119978423147 * (X^X))"
   ]
  },
  {
   "cell_type": "markdown",
   "id": "accomplished-recycling",
   "metadata": {},
   "source": [
    "In general, the state of interest (e.g. the ground state) is not known exactly. Instead, we rely on some other method to prepare an input state that has a significant contribution from the ground state. For the case at hand, such a state may be prepared with the following circuit:"
   ]
  },
  {
   "cell_type": "code",
   "execution_count": 70,
   "id": "italian-voltage",
   "metadata": {},
   "outputs": [],
   "source": [
    "state_preparation = (I^X)"
   ]
  },
  {
   "cell_type": "markdown",
   "id": "systematic-celtic",
   "metadata": {},
   "source": [
    "In contrast to the simple examples above, the eigenphase is no longer equal to two raised to a small negative power. In fact, it is not a power of two. The higher the number of evaluation qubits, the better our approximation of the eigenvalues. We choose the following:"
   ]
  },
  {
   "cell_type": "code",
   "execution_count": 71,
   "id": "ethical-ultimate",
   "metadata": {},
   "outputs": [],
   "source": [
    "num_evaluation_qubits = 6"
   ]
  },
  {
   "cell_type": "markdown",
   "id": "sonic-grant",
   "metadata": {},
   "source": [
    "On a real quantum processor, we might use a trotterization scheme to implement the Hamiltonian. But, since we are running the algorithm on a simulator, we can implement the entire evolution as a single, multi-qubit, gate. This evolution scheme is implemented by the `MatrixEvolution` class."
   ]
  },
  {
   "cell_type": "code",
   "execution_count": 72,
   "id": "spanish-network",
   "metadata": {},
   "outputs": [],
   "source": [
    "from qiskit.opflow.evolutions import MatrixEvolution\n",
    "evolution_type = MatrixEvolution()"
   ]
  },
  {
   "cell_type": "markdown",
   "id": "talented-government",
   "metadata": {},
   "source": [
    "Before running the algorithm, let's compute the eigenvalues of the Hamiltonian"
   ]
  },
  {
   "cell_type": "code",
   "execution_count": 85,
   "id": "familiar-earth",
   "metadata": {},
   "outputs": [
    {
     "data": {
      "text/plain": [
       "array([-1.24458455, -0.88272215, -1.85727503, -0.22491125])"
      ]
     },
     "execution_count": 85,
     "metadata": {},
     "output_type": "execute_result"
    }
   ],
   "source": [
    "import scipy\n",
    "\n",
    "def eigenvalues(hamiltonian):\n",
    "    m = hamiltonian.to_matrix()\n",
    "    return scipy.linalg.eigvals(m)\n",
    "\n",
    "eigenvalues(hamiltonian).real"
   ]
  },
  {
   "cell_type": "markdown",
   "id": "environmental-deputy",
   "metadata": {},
   "source": [
    "Now we run the algorithm"
   ]
  },
  {
   "cell_type": "code",
   "execution_count": 73,
   "id": "potential-trout",
   "metadata": {},
   "outputs": [
    {
     "name": "stderr",
     "output_type": "stream",
     "text": [
      "Evolved Hamiltonian is not composed of only MatrixOps, converting to Matrix representation, which can be expensive.\n"
     ]
    }
   ],
   "source": [
    "phase_est = HamiltonianPhaseEstimation(num_evaluation_qubits=num_evaluation_qubits, quantum_instance=qi)\n",
    "    \n",
    "result = phase_est.estimate(hamiltonian=hamiltonian, state_preparation=state_preparation,\n",
    "                            evolution=evolution_type)"
   ]
  },
  {
   "cell_type": "markdown",
   "id": "wanted-capitol",
   "metadata": {},
   "source": [
    "The returned value `result` is an intance of the class `HamiltonianPhaseEstimationResult`, which implements simple tools for analysis. The method `filter_phases(cutoff)` returns only those phases whose probability of measurement is greater than `cutoff`. How many phases occur with non-zero probability?"
   ]
  },
  {
   "cell_type": "code",
   "execution_count": 82,
   "id": "undefined-continent",
   "metadata": {},
   "outputs": [
    {
     "data": {
      "text/plain": [
       "64"
      ]
     },
     "execution_count": 82,
     "metadata": {},
     "output_type": "execute_result"
    }
   ],
   "source": [
    "len(result.filter_phases(0.0))  # Passing no argument is the same as 0.0"
   ]
  },
  {
   "cell_type": "markdown",
   "id": "modern-analysis",
   "metadata": {},
   "source": [
    "We used 6 phase-evaluation qubits, which corresponds to $2^6 = 64$ phases. So, all of the phases occur with some non-zero probability. Most probabilities are very small, including some that are would be exactly zero if floating point operations were perfect.\n",
    "\n",
    "It turns out that our input state has overlap with only two eigenstates of the Hamiltonian.\n",
    "Here, we tune the filter to get just the most important components, which approximate the two eigenvalues."
   ]
  },
  {
   "cell_type": "code",
   "execution_count": 98,
   "id": "nuclear-genesis",
   "metadata": {},
   "outputs": [
    {
     "data": {
      "text/plain": [
       "{-0.21867555356584834: 0.010899311653025939,\n",
       " -1.8551932456759057: 0.9728871781537503}"
      ]
     },
     "execution_count": 98,
     "metadata": {},
     "output_type": "execute_result"
    }
   ],
   "source": [
    "phase_dict = result.filter_phases(0.01)\n",
    "phase_dict"
   ]
  },
  {
   "cell_type": "markdown",
   "id": "moderate-medium",
   "metadata": {},
   "source": [
    "Determining what value of the cutoff to use is beyond the scope of this tutorial. But, let's look a bit at what is involved. Let's make the cutoff less strict:"
   ]
  },
  {
   "cell_type": "code",
   "execution_count": 97,
   "id": "several-snake",
   "metadata": {},
   "outputs": [
    {
     "data": {
      "text/plain": [
       "{-1.8551932456759057: 0.9728871781537503,\n",
       " -0.21867555356584834: 0.010899311653025939,\n",
       " -1.886070937979869: 0.005092927085890913,\n",
       " -1.8243155533719424: 0.0038881471250501775,\n",
       " -1.9169486302838326: 0.0011931982782644767,\n",
       " -1.793437861067979: 0.001041113814614538}"
      ]
     },
     "execution_count": 97,
     "metadata": {},
     "output_type": "execute_result"
    }
   ],
   "source": [
    "phase_dict = result.filter_phases(0.001)\n",
    "dict(sorted(phase_dict.items(), key=lambda x: -x[1]))  # sort the dict by probability"
   ]
  },
  {
   "cell_type": "markdown",
   "id": "auburn-sense",
   "metadata": {},
   "source": [
    "We know that `-1.886` is not an eigenvalue distinct from, and less than, `-1.855`. But, this module does not provide a way to determine this algorithmically."
   ]
  },
  {
   "cell_type": "markdown",
   "id": "neither-implementation",
   "metadata": {},
   "source": [
    "You may need to inspect the state of the algorithm before the final result. Before running the phase estimation algorithm, the Hamiltonian is scaled and shifted such that the eigenvalues are mapped to unique phases in $[0, 1)$. Selecting `scaled=False` allows you to see the phases before they are scaled back to the original eigenvalues:"
   ]
  },
  {
   "cell_type": "code",
   "execution_count": 99,
   "id": "advance-boston",
   "metadata": {},
   "outputs": [
    {
     "data": {
      "text/plain": [
       "{0.421875: 0.010899311653025939,\n",
       " 0.5625: 0.0011931982782644767,\n",
       " 0.578125: 0.005092927085890913,\n",
       " 0.59375: 0.9728871781537503,\n",
       " 0.609375: 0.0038881471250501775,\n",
       " 0.625: 0.001041113814614538}"
      ]
     },
     "execution_count": 99,
     "metadata": {},
     "output_type": "execute_result"
    }
   ],
   "source": [
    "result.filter_phases(0.001, scaled=False)"
   ]
  },
  {
   "cell_type": "markdown",
   "id": "structural-harrison",
   "metadata": {},
   "source": [
    "The bitstrings are mapped to evenly spaced phases in $[0, 1)$. To see the probabilties of bitstrings measured from the phase register, do the following."
   ]
  },
  {
   "cell_type": "code",
   "execution_count": 102,
   "id": "blank-ordering",
   "metadata": {},
   "outputs": [
    {
     "data": {
      "text/plain": [
       "{'011011': 0.010899311653025939,\n",
       " '100100': 0.0011931982782644767,\n",
       " '100101': 0.005092927085890913,\n",
       " '100110': 0.9728871781537503,\n",
       " '100111': 0.0038881471250501775,\n",
       " '101000': 0.001041113814614538}"
      ]
     },
     "execution_count": 102,
     "metadata": {},
     "output_type": "execute_result"
    }
   ],
   "source": [
    "result.filter_phases(0.001, as_float=False, scaled=False)"
   ]
  },
  {
   "cell_type": "code",
   "execution_count": 105,
   "id": "artificial-right",
   "metadata": {},
   "outputs": [
    {
     "data": {
      "text/plain": [
       "0.9880861537268272"
      ]
     },
     "execution_count": 105,
     "metadata": {},
     "output_type": "execute_result"
    }
   ],
   "source": [
    "result._phase_estimation_scale._bound"
   ]
  },
  {
   "cell_type": "code",
   "execution_count": 106,
   "id": "satisfactory-institution",
   "metadata": {},
   "outputs": [
    {
     "data": {
      "text/html": [
       "<h3>Version Information</h3><table><tr><th>Qiskit Software</th><th>Version</th></tr><tr><td><code>qiskit-terra</code></td><td>0.19.0.dev0+0c6890d</td></tr><tr><td><code>qiskit-aer</code></td><td>0.9.0</td></tr><tr><td><code>qiskit-ignis</code></td><td>0.4.0.dev0+15b7177</td></tr><tr><td><code>qiskit-aqua</code></td><td>0.10.0.dev0+1f2c316</td></tr><tr><td><code>qiskit-nature</code></td><td>0.2.0</td></tr><tr><td><code>qiskit-machine-learning</code></td><td>0.2.0</td></tr><tr><th>System information</th></tr><tr><td>Python</td><td>3.9.3 (default, Apr  8 2021, 23:35:02) \n",
       "[GCC 10.2.0]</td></tr><tr><td>OS</td><td>Linux</td></tr><tr><td>CPUs</td><td>12</td></tr><tr><td>Memory (Gb)</td><td>62.766021728515625</td></tr><tr><td colspan='2'>Wed Aug 04 22:38:32 2021 EDT</td></tr></table>"
      ],
      "text/plain": [
       "<IPython.core.display.HTML object>"
      ]
     },
     "metadata": {},
     "output_type": "display_data"
    },
    {
     "data": {
      "text/html": [
       "<div style='width: 100%; background-color:#d5d9e0;padding-left: 10px; padding-bottom: 10px; padding-right: 10px; padding-top: 5px'><h3>This code is a part of Qiskit</h3><p>&copy; Copyright IBM 2017, 2021.</p><p>This code is licensed under the Apache License, Version 2.0. You may<br>obtain a copy of this license in the LICENSE.txt file in the root directory<br> of this source tree or at http://www.apache.org/licenses/LICENSE-2.0.<p>Any modifications or derivative works of this code must retain this<br>copyright notice, and modified files need to carry a notice indicating<br>that they have been altered from the originals.</p></div>"
      ],
      "text/plain": [
       "<IPython.core.display.HTML object>"
      ]
     },
     "metadata": {},
     "output_type": "display_data"
    }
   ],
   "source": [
    "import qiskit.tools.jupyter\n",
    "%qiskit_version_table\n",
    "%qiskit_copyright"
   ]
  },
  {
   "cell_type": "code",
   "execution_count": null,
   "id": "widespread-cassette",
   "metadata": {},
   "outputs": [],
   "source": []
  }
 ],
 "metadata": {
  "kernelspec": {
   "display_name": "Python 3",
   "language": "python",
   "name": "python3"
  },
  "language_info": {
   "codemirror_mode": {
    "name": "ipython",
    "version": 3
   },
   "file_extension": ".py",
   "mimetype": "text/x-python",
   "name": "python",
   "nbconvert_exporter": "python",
   "pygments_lexer": "ipython3",
   "version": "3.9.3"
  }
 },
 "nbformat": 4,
 "nbformat_minor": 5
}
