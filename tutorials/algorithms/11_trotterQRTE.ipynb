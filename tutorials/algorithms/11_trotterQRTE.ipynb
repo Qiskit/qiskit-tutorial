{
 "cells": [
  {
   "cell_type": "markdown",
   "id": "c8bf3f5f-1218-4890-8885-255d36cfdb0a",
   "metadata": {},
   "source": [
    "# Quantum Real Time Evolution using Trotterization"
   ]
  }
 ],
 "metadata": {
  "kernelspec": {
   "display_name": "Python 3 (ipykernel)",
   "language": "python",
   "name": "python3"
  },
  "language_info": {
   "codemirror_mode": {
    "name": "ipython",
    "version": 3
   },
   "file_extension": ".py",
   "mimetype": "text/x-python",
   "name": "python",
   "nbconvert_exporter": "python",
   "pygments_lexer": "ipython3",
   "version": "3.9.13"
  }
 },
 "nbformat": 4,
 "nbformat_minor": 5
}
