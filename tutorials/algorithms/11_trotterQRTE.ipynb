{
 "cells": [
  {
   "cell_type": "markdown",
   "id": "c8bf3f5f-1218-4890-8885-255d36cfdb0a",
   "metadata": {},
   "source": [
    "# Quantum Real Time Evolution using Trotterization"
   ]
  },
  {
   "cell_type": "code",
   "execution_count": 10,
   "id": "e79849cf-8003-4389-a05e-0ed41a7d720a",
   "metadata": {},
   "outputs": [],
   "source": [
    "# TODO Introduce Trotterization first."
   ]
  },
  {
   "attachments": {},
   "cell_type": "markdown",
   "id": "f52a038f-f875-48f2-8345-039933a1fa69",
   "metadata": {},
   "source": [
    "In this tutorial, we will study the time evolution of the [Ising model](https://en.wikipedia.org/wiki/Ising_model) on a linear lattice of $L=4$ sites. This lattice consists of an array of spins $\\sigma_i$ ($i=0, 1, 2, 3$) that interact only with their nearest neighbors. The numerical values that these spins take is ither $+1$ or $-1$. Let us consider the following Hamiltonian describing the dynamics of the system:\n",
    "\n",
    "$$\n",
    "H = - J \\sum_{i=0}^{L-2} \\sigma_i \\sigma_{i+1} \\text{,}\n",
    "$$\n",
    "\n",
    "where $J$ describes the interaction energy. The eigenvalues of the $Z$ Pauli matrix correspond to the values that the spin can take, while its eigenvectors are those of the computational basis $\\{| 0 \\rangle, | 1 \\rangle\\}$. This makes the tensor product of $Z$ operators a good choice to encode the spins of the system. To do that, we will write the hamiltonian as:\n",
    "\n",
    "$$\n",
    "H = -J \\sum_{i=0}^{L-2} Z_i Z_{i+1} \\text{,}\n",
    "$$\n",
    "\n",
    "and know that our 4-site system will be encoded by 4 qubits, as follows:\n",
    "\n",
    "| Quantum state        | Spin representation |\n",
    "|:--------------------:|:-------------------:|\n",
    "| $\\| 0 0 0 0 \\rangle$ | $++++$              |\n",
    "| $\\| 1 0 0 0 \\rangle$ | $-+++$              |\n",
    "| $\\ldots$             | $\\ldots$            |\n",
    "| $\\| 1 1 1 1 \\rangle$ | $----$              |"
   ]
  },
  {
   "cell_type": "code",
   "execution_count": 1,
   "id": "0b8576ee",
   "metadata": {},
   "outputs": [],
   "source": [
    "from qiskit.quantum_info import SparsePauliOp\n"
   ]
  },
  {
   "attachments": {},
   "cell_type": "markdown",
   "id": "d0740e78",
   "metadata": {},
   "source": [
    "Let us get started. First of all, let us create the Hamiltonian as an operator"
   ]
  },
  {
   "cell_type": "code",
   "execution_count": 2,
   "id": "38bfba0a",
   "metadata": {},
   "outputs": [
    {
     "name": "stdout",
     "output_type": "stream",
     "text": [
      "SparsePauliOp(['IIZZ', 'IZZI', 'ZZII'],\n",
      "              coeffs=[-1.+0.j, -1.+0.j, -1.+0.j])\n"
     ]
    }
   ],
   "source": [
    "from qiskit.quantum_info import SparsePauliOp\n",
    "\n",
    "L = 4   # number of sites\n",
    "J = 1.  # interaction term\n",
    "\n",
    "# List of hamiltonian terms as 3-tuples containing\n",
    "# (1) the pauli string,\n",
    "# (2) the qubit indices corresponding to the pauli string\n",
    "# (3) the coefficient (1., for now)\n",
    "ZZ_tuples = [('ZZ', [i, i+1], 1.) for i in range(0, L - 1)]\n",
    "\n",
    "# We create the hamiltonian as a SparsePauliOp, via the\n",
    "# method from_sparse_list, and multiply by the interaction term\n",
    "H = SparsePauliOp.from_sparse_list(ZZ_tuples, num_qubits=L)\n",
    "H = -J * H\n",
    "print(H)"
   ]
  },
  {
   "attachments": {},
   "cell_type": "markdown",
   "id": "b1127eec",
   "metadata": {},
   "source": [
    "Let us first create an instance of `TrotterQRTE`"
   ]
  },
  {
   "cell_type": "code",
   "execution_count": 5,
   "id": "e34ff4bd",
   "metadata": {},
   "outputs": [
    {
     "ename": "TypeError",
     "evalue": "__init__() got an unexpected keyword argument 'num_timesteps'",
     "output_type": "error",
     "traceback": [
      "\u001b[0;31m---------------------------------------------------------------------------\u001b[0m",
      "\u001b[0;31mTypeError\u001b[0m                                 Traceback (most recent call last)",
      "Cell \u001b[0;32mIn[5], line 5\u001b[0m\n\u001b[1;32m      1\u001b[0m \u001b[39mfrom\u001b[39;00m \u001b[39mqiskit\u001b[39;00m\u001b[39m.\u001b[39;00m\u001b[39malgorithms\u001b[39;00m\u001b[39m.\u001b[39;00m\u001b[39mtime_evolvers\u001b[39;00m\u001b[39m.\u001b[39;00m\u001b[39mtrotterization\u001b[39;00m\u001b[39m.\u001b[39;00m\u001b[39mtrotter_qrte\u001b[39;00m \u001b[39mimport\u001b[39;00m TrotterQRTE\n\u001b[1;32m      3\u001b[0m \u001b[39m# TODO Either add argument `num_timesteps` to TrotterQRTE initializer in branch `stable/0.23` or\u001b[39;00m\n\u001b[1;32m      4\u001b[0m \u001b[39m# TODO figure out why `Statevector` cannot be imported when in branch `stable/0.24`.\u001b[39;00m\n\u001b[0;32m----> 5\u001b[0m trotter \u001b[39m=\u001b[39m TrotterQRTE(num_timesteps\u001b[39m=\u001b[39;49m\u001b[39m10\u001b[39;49m)\n",
      "\u001b[0;31mTypeError\u001b[0m: __init__() got an unexpected keyword argument 'num_timesteps'"
     ]
    }
   ],
   "source": [
    "from qiskit.algorithms.time_evolvers.trotterization.trotter_qrte import TrotterQRTE\n",
    "\n",
    "# TODO Either add argument `num_timesteps` to TrotterQRTE initializer in branch `stable/0.23` or\n",
    "# TODO figure out why `Statevector` cannot be imported when in branch `stable/0.24`.\n",
    "\n",
    "trotter = TrotterQRTE(num_timesteps=10)"
   ]
  },
  {
   "attachments": {},
   "cell_type": "markdown",
   "id": "4fa41ff7",
   "metadata": {},
   "source": [
    "Now let us create an instance of `TimeEvolutionProblem`."
   ]
  },
  {
   "cell_type": "code",
   "execution_count": 14,
   "id": "e9730206",
   "metadata": {},
   "outputs": [],
   "source": [
    "from qiskit.algorithms.time_evolvers.time_evolution_problem import TimeEvolutionProblem\n",
    "\n",
    "# TODO Add operators for magnetization\n",
    "\n",
    "problem = TimeEvolutionProblem(H, time=10.)"
   ]
  }
 ],
 "metadata": {
  "kernelspec": {
   "display_name": "Python 3 (ipykernel)",
   "language": "python",
   "name": "python3"
  },
  "language_info": {
   "codemirror_mode": {
    "name": "ipython",
    "version": 3
   },
   "file_extension": ".py",
   "mimetype": "text/x-python",
   "name": "python",
   "nbconvert_exporter": "python",
   "pygments_lexer": "ipython3",
   "version": "3.9.13"
  }
 },
 "nbformat": 4,
 "nbformat_minor": 5
}
