{
 "cells": [
  {
   "cell_type": "markdown",
   "metadata": {},
   "source": [
    "# Qiskit Visualizations"
   ]
  },
  {
   "cell_type": "markdown",
   "metadata": {},
   "source": [
    "<div class=\"alert alert-warning\">\n",
    "\n",
    "Deprecation Warning\n",
    "\n",
    "As part of the Qiskit Documentation content restructuring efforts, the content of this tutorial has been moved to [qiskit.visualization](https://qiskit.org/documentation/apidoc/visualization.html) module API reference. You can find code examples in the API reference page of each function:\n",
    "\n",
    "- plot_histogram\n",
    "- plot_state_city\n",
    "- plot_state_hinton\n",
    "- plot_state_qsphere\n",
    "- plot_state_paulivec\n",
    "- plot_bloch_multivec\n",
    "- plot_bloch_vector\n",
    "\n",
    "If you want to access the old tutorial notebook, you can find it on the documentation page of older releases of Qiskit, such as [Qiskit 0.36](https://qiskit.org/documentation/stable/0.36/tutorials.html).\n",
    "\n",
    "If you have any comments or suggestions about the deprecation of this tutorial, please comment in [this GitHub issue](https://github.com/Qiskit/qiskit-tutorials/issues/1352).\n",
    "\n",
    "</div>"
   ]
  },
  {
   "cell_type": "markdown",
   "metadata": {},
   "source": []
  }
 ],
 "metadata": {
  "anaconda-cloud": {},
  "celltoolbar": "Tags",
  "kernelspec": {
   "display_name": "Python 3.8.9 64-bit",
   "language": "python",
   "name": "python3"
  },
  "language_info": {
   "codemirror_mode": {
    "name": "ipython",
    "version": 3
   },
   "file_extension": ".py",
   "mimetype": "text/x-python",
   "name": "python",
   "nbconvert_exporter": "python",
   "pygments_lexer": "ipython3",
   "version": "3.8.9"
  },
  "varInspector": {
   "cols": {
    "lenName": 16,
    "lenType": 16,
    "lenVar": 40
   },
   "kernels_config": {
    "python": {
     "delete_cmd_postfix": "",
     "delete_cmd_prefix": "del ",
     "library": "var_list.py",
     "varRefreshCmd": "print(var_dic_list())"
    },
    "r": {
     "delete_cmd_postfix": ") ",
     "delete_cmd_prefix": "rm(",
     "library": "var_list.r",
     "varRefreshCmd": "cat(var_dic_list()) "
    }
   },
   "types_to_exclude": [
    "module",
    "function",
    "builtin_function_or_method",
    "instance",
    "_Feature"
   ],
   "window_display": false
  },
  "vscode": {
   "interpreter": {
    "hash": "31f2aee4e71d21fbe5cf8b01ff0e069b9275f58929596ceb00d14d90e3e16cd6"
   }
  },
  "widgets": {
   "application/vnd.jupyter.widget-state+json": {
    "state": {
     "018f39b98e33429bacce0500d3694b0e": {
      "model_module": "@jupyter-widgets/base",
      "model_module_version": "1.2.0",
      "model_name": "LayoutModel",
      "state": {
       "width": "65px"
      }
     },
     "09de140963914e33a12c947e409f55d4": {
      "model_module": "@jupyter-widgets/base",
      "model_module_version": "1.2.0",
      "model_name": "LayoutModel",
      "state": {
       "margin": "0px 0px 0px 35px",
       "width": "560px"
      }
     },
     "100645ee58154c58aac870f014799a22": {
      "model_module": "@jupyter-widgets/base",
      "model_module_version": "1.2.0",
      "model_name": "LayoutModel",
      "state": {
       "width": "70px"
      }
     },
     "1e58eaf6b3fc4f41be6693738d9a6691": {
      "model_module": "@jupyter-widgets/controls",
      "model_module_version": "1.5.0",
      "model_name": "HBoxModel",
      "state": {
       "children": [
        "IPY_MODEL_27b6f214fd55464e91e63a4933ee84e3",
        "IPY_MODEL_36726cca93404b58afa8ca09c56fb84c",
        "IPY_MODEL_7f817024068a4861a8bc313609435c4f",
        "IPY_MODEL_ad71d1697ab8473896f31596c40ba096",
        "IPY_MODEL_f2d2a602ecae411799147c81ac077a65"
       ],
       "layout": "IPY_MODEL_09de140963914e33a12c947e409f55d4"
      }
     },
     "201846872e6346d79d82a4c375666d77": {
      "model_module": "@jupyter-widgets/controls",
      "model_module_version": "1.5.0",
      "model_name": "DescriptionStyleModel",
      "state": {
       "description_width": ""
      }
     },
     "254d969505174dada6276ba60a59ac72": {
      "model_module": "@jupyter-widgets/controls",
      "model_module_version": "1.5.0",
      "model_name": "DescriptionStyleModel",
      "state": {
       "description_width": ""
      }
     },
     "27ac8875dbd1408b9f0c53c292f7c315": {
      "model_module": "@jupyter-widgets/controls",
      "model_module_version": "1.5.0",
      "model_name": "DescriptionStyleModel",
      "state": {
       "description_width": ""
      }
     },
     "27b6f214fd55464e91e63a4933ee84e3": {
      "model_module": "@jupyter-widgets/controls",
      "model_module_version": "1.5.0",
      "model_name": "HTMLModel",
      "state": {
       "layout": "IPY_MODEL_5c26b263acfb4318b808ec48899ad6c8",
       "style": "IPY_MODEL_6cd98fdef5714fcbb49934973cb39741",
       "value": "<h5>Job ID</h5>"
      }
     },
     "2b2ecba65c9443d08dd9a843523e1d11": {
      "model_module": "@jupyter-widgets/controls",
      "model_module_version": "1.5.0",
      "model_name": "DescriptionStyleModel",
      "state": {
       "description_width": ""
      }
     },
     "2f3bdb857872400d934379864cd205a5": {
      "model_module": "@jupyter-widgets/controls",
      "model_module_version": "1.5.0",
      "model_name": "DescriptionStyleModel",
      "state": {
       "description_width": ""
      }
     },
     "3425bb4bedc444ce9613a46bc4e057e0": {
      "model_module": "@jupyter-widgets/base",
      "model_module_version": "1.2.0",
      "model_name": "LayoutModel",
      "state": {
       "max_width": "600px",
       "min_width": "600px"
      }
     },
     "36726cca93404b58afa8ca09c56fb84c": {
      "model_module": "@jupyter-widgets/controls",
      "model_module_version": "1.5.0",
      "model_name": "HTMLModel",
      "state": {
       "layout": "IPY_MODEL_6e20c0e1b50e430999900a7e92a962ad",
       "style": "IPY_MODEL_f1e14c8cdd54423ab828595a58805d19",
       "value": "<h5>Backend</h5>"
      }
     },
     "3737017c88bd4d7f85c3a4258dc7f7a0": {
      "model_module": "@jupyter-widgets/controls",
      "model_module_version": "1.5.0",
      "model_name": "HTMLModel",
      "state": {
       "layout": "IPY_MODEL_e97fe55d3434414da74e8348780198e4",
       "style": "IPY_MODEL_2f3bdb857872400d934379864cd205a5",
       "value": "job has successfully run"
      }
     },
     "4350a8ec68424d0c86035f7534788f2b": {
      "model_module": "@jupyter-widgets/base",
      "model_module_version": "1.2.0",
      "model_name": "LayoutModel",
      "state": {
       "grid_area": "right",
       "padding": "0px 0px 0px 0px",
       "width": "70px"
      }
     },
     "43c5dc736c3a4a79a155b58dc5b7642f": {
      "model_module": "@jupyter-widgets/base",
      "model_module_version": "1.2.0",
      "model_name": "LayoutModel",
      "state": {
       "width": "135px"
      }
     },
     "52a04d29d66546f8b79ecf39f7725ca2": {
      "model_module": "@jupyter-widgets/controls",
      "model_module_version": "1.5.0",
      "model_name": "GridBoxModel",
      "state": {
       "children": [
        "IPY_MODEL_67a30b28b8e246d5ae0d745b5fb98582"
       ],
       "layout": "IPY_MODEL_d18f18b31e5c48adbfd7891d45837496"
      }
     },
     "5c26b263acfb4318b808ec48899ad6c8": {
      "model_module": "@jupyter-widgets/base",
      "model_module_version": "1.2.0",
      "model_name": "LayoutModel",
      "state": {
       "width": "65px"
      }
     },
     "627941eb71b64d9b876cb6c7dac3d1e6": {
      "model_module": "@jupyter-widgets/base",
      "model_module_version": "1.2.0",
      "model_name": "LayoutModel",
      "state": {
       "width": "95px"
      }
     },
     "67a30b28b8e246d5ae0d745b5fb98582": {
      "model_module": "@jupyter-widgets/controls",
      "model_module_version": "1.5.0",
      "model_name": "ButtonModel",
      "state": {
       "button_style": "primary",
       "description": "Clear",
       "layout": "IPY_MODEL_4350a8ec68424d0c86035f7534788f2b",
       "style": "IPY_MODEL_92e130a996c447c7918d6856b9e1677a"
      }
     },
     "689f466eecf64334ad949428de5e75ea": {
      "model_module": "@jupyter-widgets/controls",
      "model_module_version": "1.5.0",
      "model_name": "ButtonModel",
      "state": {
       "icon": "close",
       "layout": "IPY_MODEL_be1259fa2de64cadaef29f623ba6e0e7",
       "style": "IPY_MODEL_f7307b9900e040c1adfeb3e2d5f74d3d"
      }
     },
     "6cd98fdef5714fcbb49934973cb39741": {
      "model_module": "@jupyter-widgets/controls",
      "model_module_version": "1.5.0",
      "model_name": "DescriptionStyleModel",
      "state": {
       "description_width": ""
      }
     },
     "6e20c0e1b50e430999900a7e92a962ad": {
      "model_module": "@jupyter-widgets/base",
      "model_module_version": "1.2.0",
      "model_name": "LayoutModel",
      "state": {
       "width": "135px"
      }
     },
     "7f817024068a4861a8bc313609435c4f": {
      "model_module": "@jupyter-widgets/controls",
      "model_module_version": "1.5.0",
      "model_name": "HTMLModel",
      "state": {
       "layout": "IPY_MODEL_ff0b6c3c0fd54ad1917f57a2f17ac780",
       "style": "IPY_MODEL_bc699e603ca044fb977e8c6f9a4bf6db",
       "value": "<h5>Status</h5>"
      }
     },
     "91e49bea052844779aab3a8b6d6a997d": {
      "model_module": "@jupyter-widgets/controls",
      "model_module_version": "1.5.0",
      "model_name": "HTMLModel",
      "state": {
       "layout": "IPY_MODEL_018f39b98e33429bacce0500d3694b0e",
       "style": "IPY_MODEL_27ac8875dbd1408b9f0c53c292f7c315",
       "value": "29daa17"
      }
     },
     "92e130a996c447c7918d6856b9e1677a": {
      "model_module": "@jupyter-widgets/controls",
      "model_module_version": "1.5.0",
      "model_name": "ButtonStyleModel",
      "state": {}
     },
     "9938ef6f8f9243dcaf956087c7a97799": {
      "model_module": "@jupyter-widgets/controls",
      "model_module_version": "1.5.0",
      "model_name": "DescriptionStyleModel",
      "state": {
       "description_width": ""
      }
     },
     "9d10554d167e4425806e6ab680dc4a76": {
      "model_module": "@jupyter-widgets/controls",
      "model_module_version": "1.5.0",
      "model_name": "HTMLModel",
      "state": {
       "layout": "IPY_MODEL_43c5dc736c3a4a79a155b58dc5b7642f",
       "style": "IPY_MODEL_2b2ecba65c9443d08dd9a843523e1d11",
       "value": "ibmqx4"
      }
     },
     "ad71d1697ab8473896f31596c40ba096": {
      "model_module": "@jupyter-widgets/controls",
      "model_module_version": "1.5.0",
      "model_name": "HTMLModel",
      "state": {
       "layout": "IPY_MODEL_eef9abef3a2245e78ee306c573528d31",
       "style": "IPY_MODEL_9938ef6f8f9243dcaf956087c7a97799",
       "value": "<h5>Queue</h5>"
      }
     },
     "aeb128a92f274026b2ed07c57689a57b": {
      "model_module": "@jupyter-widgets/controls",
      "model_module_version": "1.5.0",
      "model_name": "HTMLModel",
      "state": {
       "layout": "IPY_MODEL_100645ee58154c58aac870f014799a22",
       "style": "IPY_MODEL_254d969505174dada6276ba60a59ac72",
       "value": "-"
      }
     },
     "bc699e603ca044fb977e8c6f9a4bf6db": {
      "model_module": "@jupyter-widgets/controls",
      "model_module_version": "1.5.0",
      "model_name": "DescriptionStyleModel",
      "state": {
       "description_width": ""
      }
     },
     "be1259fa2de64cadaef29f623ba6e0e7": {
      "model_module": "@jupyter-widgets/base",
      "model_module_version": "1.2.0",
      "model_name": "LayoutModel",
      "state": {
       "margin": "0px 5px 0px 0px",
       "width": "30px"
      }
     },
     "c7f28578c0164d9ca6d3337cebda6826": {
      "model_module": "@jupyter-widgets/base",
      "model_module_version": "1.2.0",
      "model_name": "LayoutModel",
      "state": {}
     },
     "ce0f64978c0b43d89c17e79389c76f12": {
      "model_module": "@jupyter-widgets/controls",
      "model_module_version": "1.5.0",
      "model_name": "HBoxModel",
      "state": {
       "children": [
        "IPY_MODEL_689f466eecf64334ad949428de5e75ea",
        "IPY_MODEL_91e49bea052844779aab3a8b6d6a997d",
        "IPY_MODEL_9d10554d167e4425806e6ab680dc4a76",
        "IPY_MODEL_ee010113008e45299ff0ed494de093c2",
        "IPY_MODEL_aeb128a92f274026b2ed07c57689a57b",
        "IPY_MODEL_3737017c88bd4d7f85c3a4258dc7f7a0"
       ],
       "layout": "IPY_MODEL_3425bb4bedc444ce9613a46bc4e057e0"
      }
     },
     "d18f18b31e5c48adbfd7891d45837496": {
      "model_module": "@jupyter-widgets/base",
      "model_module_version": "1.2.0",
      "model_name": "LayoutModel",
      "state": {
       "grid_template_areas": "\n                                       \". . . . right \"\n                                        ",
       "grid_template_columns": "20% 20% 20% 20% 20%",
       "width": "100%"
      }
     },
     "e9012699a2ea48b8b9fb806e66f01ab6": {
      "model_module": "@jupyter-widgets/controls",
      "model_module_version": "1.5.0",
      "model_name": "DescriptionStyleModel",
      "state": {
       "description_width": ""
      }
     },
     "e97fe55d3434414da74e8348780198e4": {
      "model_module": "@jupyter-widgets/base",
      "model_module_version": "1.2.0",
      "model_name": "LayoutModel",
      "state": {
       "overflow_x": "scroll"
      }
     },
     "ee010113008e45299ff0ed494de093c2": {
      "model_module": "@jupyter-widgets/controls",
      "model_module_version": "1.5.0",
      "model_name": "HTMLModel",
      "state": {
       "layout": "IPY_MODEL_627941eb71b64d9b876cb6c7dac3d1e6",
       "style": "IPY_MODEL_e9012699a2ea48b8b9fb806e66f01ab6",
       "value": "<font style='color:#34BC6E'>DONE</font>"
      }
     },
     "eef9abef3a2245e78ee306c573528d31": {
      "model_module": "@jupyter-widgets/base",
      "model_module_version": "1.2.0",
      "model_name": "LayoutModel",
      "state": {
       "width": "70px"
      }
     },
     "f1e14c8cdd54423ab828595a58805d19": {
      "model_module": "@jupyter-widgets/controls",
      "model_module_version": "1.5.0",
      "model_name": "DescriptionStyleModel",
      "state": {
       "description_width": ""
      }
     },
     "f2d2a602ecae411799147c81ac077a65": {
      "model_module": "@jupyter-widgets/controls",
      "model_module_version": "1.5.0",
      "model_name": "HTMLModel",
      "state": {
       "layout": "IPY_MODEL_c7f28578c0164d9ca6d3337cebda6826",
       "style": "IPY_MODEL_201846872e6346d79d82a4c375666d77",
       "value": "<h5>Message</h5>"
      }
     },
     "f7307b9900e040c1adfeb3e2d5f74d3d": {
      "model_module": "@jupyter-widgets/controls",
      "model_module_version": "1.5.0",
      "model_name": "ButtonStyleModel",
      "state": {
       "button_color": "white"
      }
     },
     "ff0b6c3c0fd54ad1917f57a2f17ac780": {
      "model_module": "@jupyter-widgets/base",
      "model_module_version": "1.2.0",
      "model_name": "LayoutModel",
      "state": {
       "width": "95px"
      }
     }
    },
    "version_major": 2,
    "version_minor": 0
   }
  }
 },
 "nbformat": 4,
 "nbformat_minor": 1
}
