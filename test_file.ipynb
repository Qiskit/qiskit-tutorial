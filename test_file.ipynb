{
  "nbformat": 4,
  "nbformat_minor": 0,
  "metadata": {
    "colab": {
      "provenance": [],
      "authorship_tag": "ABX9TyMNNO4lkR9tgp0cYLHN+Ybw"
    },
    "kernelspec": {
      "name": "python3",
      "display_name": "Python 3"
    },
    "language_info": {
      "name": "python"
    }
  },
  "cells": [
    {
      "cell_type": "code",
      "execution_count": null,
      "metadata": {
        "id": "01a1CVsXGnV_"
      },
      "outputs": [],
      "source": []
    },
    {
      "cell_type": "markdown",
      "source": [
        "hello from Wenxiang"
      ],
      "metadata": {
        "id": "wT9XYinrQRlW"
      }
    },
    {
      "cell_type": "markdown",
      "source": [
        "hellow from Wenxiang"
      ],
      "metadata": {
        "id": "v4AY9qIRGplT"
      }
    }
  ]
}